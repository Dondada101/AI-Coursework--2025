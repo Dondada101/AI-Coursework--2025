{
  "cells": [
    {
      "cell_type": "markdown",
      "metadata": {
        "id": "view-in-github",
        "colab_type": "text"
      },
      "source": [
        "<a href=\"https://colab.research.google.com/github/Rakichwande/AI-Coursework--2025/blob/main/Python_Refresher.ipynb\" target=\"_parent\"><img src=\"https://colab.research.google.com/assets/colab-badge.svg\" alt=\"Open In Colab\"/></a>"
      ]
    },
    {
      "cell_type": "markdown",
      "id": "862ee8ee",
      "metadata": {
        "id": "862ee8ee"
      },
      "source": [
        "## Practice Exercise 1"
      ]
    },
    {
      "cell_type": "markdown",
      "id": "c74231b5",
      "metadata": {
        "id": "c74231b5"
      },
      "source": [
        "##### Write a program that asks the user for a number of days. The program then prints out the number of seconds in the amount of days given.\n"
      ]
    },
    {
      "cell_type": "code",
      "execution_count": null,
      "id": "10f7f693",
      "metadata": {
        "id": "10f7f693",
        "outputId": "a2bc9cca-0175-4c89-c387-227378d44cb5"
      },
      "outputs": [
        {
          "name": "stdout",
          "output_type": "stream",
          "text": [
            "The number of seconds in 78 days is 6739200\n"
          ]
        }
      ],
      "source": [
        "days = int(input(\"Enter the number of days\"))\n",
        "\n",
        "# convert days to seconds\n",
        "\n",
        "seconds = days * 24 * 60 * 60\n",
        "\n",
        "print(\"The number of seconds in\" ,days, \"days is\", seconds)"
      ]
    },
    {
      "cell_type": "markdown",
      "id": "2c779c52",
      "metadata": {
        "id": "2c779c52"
      },
      "source": [
        "##### Write a program that asks a user to input the radius then the program calculates the volume of a sphere (the formula for the volume is (4/3)πr3).Use the exponential operator in python to compute (r3)."
      ]
    },
    {
      "cell_type": "code",
      "execution_count": null,
      "id": "1e0e6b97",
      "metadata": {
        "id": "1e0e6b97",
        "outputId": "0ab49fdb-721e-4305-ae2d-244a570ba588"
      },
      "outputs": [
        {
          "name": "stdout",
          "output_type": "stream",
          "text": [
            "The volume of the sphere with radius 43.0 is 333038.1428119516\n"
          ]
        }
      ],
      "source": [
        "import math\n",
        "\n",
        "radius = float(input(\"Enter the radius of the sphere: \"))\n",
        "\n",
        "volume = (4/3) * math.pi * (radius ** 3)\n",
        "\n",
        "print(\"The volume of the sphere with radius\", radius, \"is\", volume)"
      ]
    },
    {
      "cell_type": "markdown",
      "id": "4d393edd",
      "metadata": {
        "id": "4d393edd"
      },
      "source": [
        "##### Using functions, write a program to compute the area and perimeter of a square. The program should ask the user to enter a number corresponding to the side length of the square and display the area and perimeter of the square."
      ]
    },
    {
      "cell_type": "code",
      "execution_count": null,
      "id": "ce087edc",
      "metadata": {
        "id": "ce087edc",
        "outputId": "904f8fc3-62d9-4b56-f50b-963ee79b51c5"
      },
      "outputs": [
        {
          "name": "stdout",
          "output_type": "stream",
          "text": [
            "For a square with side length 8.0 :\n",
            "Area= 64.0\n",
            "Perimeter= 32.0\n"
          ]
        }
      ],
      "source": [
        "def calculate_area (side) :\n",
        "    print(\"Area=\" , side ** 2)\n",
        "\n",
        "def calculate_perimeter (side) :\n",
        "    print(\"Perimeter=\" , 4 * side)\n",
        "\n",
        "side_length = float(input(\"Enter the side length of the square:\"))\n",
        "\n",
        "print(\"For a square with side length\", side_length, \":\")\n",
        "calculate_area(side_length)\n",
        "calculate_perimeter(side_length)"
      ]
    },
    {
      "cell_type": "markdown",
      "id": "f4ddb83e",
      "metadata": {
        "id": "f4ddb83e"
      },
      "source": [
        "##### Write a program using functions that determines whether a character input by a user is uppercase or lower case."
      ]
    },
    {
      "cell_type": "code",
      "execution_count": null,
      "id": "e487b18b",
      "metadata": {
        "id": "e487b18b",
        "outputId": "160e988d-622c-4926-a960-cdb38e4fac0c"
      },
      "outputs": [
        {
          "name": "stdout",
          "output_type": "stream",
          "text": [
            "u is a lowercase letter.\n"
          ]
        }
      ],
      "source": [
        "def check_case(character) :\n",
        "    if character.isupper():\n",
        "        print(character, \"is an uppercase letter.\")\n",
        "    elif character.islower():\n",
        "        print(character, \"is a lowercase letter.\")\n",
        "    else:\n",
        "        print(character, \"is not an alphabetic letter.\")\n",
        "\n",
        "character = input(\"Enter a sinngle character:\")\n",
        "\n",
        "check_case(character)"
      ]
    },
    {
      "cell_type": "markdown",
      "id": "6ffe056a",
      "metadata": {
        "id": "6ffe056a"
      },
      "source": [
        "##### The following is pseudocode for a program being designed. Write the Python program equivalent of the same."
      ]
    },
    {
      "cell_type": "markdown",
      "id": "8f292b79",
      "metadata": {
        "id": "8f292b79"
      },
      "source": [
        "BEGIN\n",
        "\n",
        "SET x TO 0, y TO 20\n",
        "\n",
        "REPEAT\n",
        "\n",
        "SUBTRACT 4 FROM y\n",
        "\n",
        "ADD 2/y TO x\n",
        "\n",
        "UNTIL\n",
        "\n",
        "y IS LESS THAN 6\n",
        "\n",
        "DISPLAY x\n",
        "\n",
        "END"
      ]
    },
    {
      "cell_type": "code",
      "execution_count": null,
      "id": "7ee48f23",
      "metadata": {
        "id": "7ee48f23",
        "outputId": "f7e43a65-fd1c-45dd-8e27-49af601fc309"
      },
      "outputs": [
        {
          "name": "stdout",
          "output_type": "stream",
          "text": [
            "The value of x is: 1.0416666666666665\n"
          ]
        }
      ],
      "source": [
        "## initialize variables\n",
        "x = 0\n",
        "y = 20\n",
        "\n",
        "## use of while loop until y is less than 6\n",
        "\n",
        "while y >= 6:\n",
        "    y = y - 4\n",
        "    x = x + (2 / y)\n",
        "\n",
        "print(\"The value of x is:\", x)"
      ]
    },
    {
      "cell_type": "markdown",
      "id": "35e648c9",
      "metadata": {
        "id": "35e648c9"
      },
      "source": [
        "##### Write a Python program that does the following: • Uses a loop for a user to continually input 5 values to populate an array. • Calculates and displays the average of the values input into the array."
      ]
    },
    {
      "cell_type": "code",
      "execution_count": null,
      "id": "5f2848cd",
      "metadata": {
        "id": "5f2848cd",
        "outputId": "221296c9-31e4-409b-ee02-24aaee44e1c8"
      },
      "outputs": [
        {
          "name": "stdout",
          "output_type": "stream",
          "text": [
            "The values you have entered are: [8.0, 3.0, 5.0, 9.0, 2.0]\n",
            "The average of the values is: 5.4\n"
          ]
        }
      ],
      "source": [
        "# n = int(input(\"How many numbers do you want to input? \"))\n",
        "\n",
        "values = []\n",
        "\n",
        "# for i in range(n):\n",
        "\n",
        "for i in range(5):\n",
        "    number = float(input(\"Enter the value {i+1}: \"))\n",
        "    values.append(number)\n",
        "\n",
        "# calculate the average\n",
        "average = sum(values) / len(values)\n",
        "\n",
        "print(\"The values you have entered are:\", values)\n",
        "print(\"The average of the values is:\", average)"
      ]
    },
    {
      "cell_type": "markdown",
      "id": "a55634ad",
      "metadata": {
        "id": "a55634ad"
      },
      "source": [
        "##### Attempt this data structures challenge on Codility. You need to sign up on the platform first before accessing the challenge. You are free to use any programming language to respond to this question. Thereafter, take a screenshot of your analysed program and include it to the notebook. Refer to this guide on how to add images to a notebook using Google Drive. If this does not work, an option is provided in part C."
      ]
    },
    {
      "cell_type": "code",
      "source": [
        "from google.colab import drive\n",
        "drive.mount('/content/drive')"
      ],
      "metadata": {
        "colab": {
          "base_uri": "https://localhost:8080/"
        },
        "id": "1usnttMsxPUU",
        "outputId": "f2cf22a8-5ecf-4f29-af9f-220fef5cb378"
      },
      "id": "1usnttMsxPUU",
      "execution_count": 1,
      "outputs": [
        {
          "output_type": "stream",
          "name": "stdout",
          "text": [
            "Mounted at /content/drive\n"
          ]
        }
      ]
    },
    {
      "cell_type": "code",
      "source": [
        "from google.colab import files\n",
        "uploaded = files.upload()\n"
      ],
      "metadata": {
        "colab": {
          "base_uri": "https://localhost:8080/",
          "height": 110
        },
        "id": "wRH6s4m1ycps",
        "outputId": "3f56eb06-5673-4217-c0f1-47ace01c3f8a"
      },
      "id": "wRH6s4m1ycps",
      "execution_count": 2,
      "outputs": [
        {
          "output_type": "display_data",
          "data": {
            "text/plain": [
              "<IPython.core.display.HTML object>"
            ],
            "text/html": [
              "\n",
              "     <input type=\"file\" id=\"files-ffa79772-cb76-4a5a-93c9-1dddc8108d15\" name=\"files[]\" multiple disabled\n",
              "        style=\"border:none\" />\n",
              "     <output id=\"result-ffa79772-cb76-4a5a-93c9-1dddc8108d15\">\n",
              "      Upload widget is only available when the cell has been executed in the\n",
              "      current browser session. Please rerun this cell to enable.\n",
              "      </output>\n",
              "      <script>// Copyright 2017 Google LLC\n",
              "//\n",
              "// Licensed under the Apache License, Version 2.0 (the \"License\");\n",
              "// you may not use this file except in compliance with the License.\n",
              "// You may obtain a copy of the License at\n",
              "//\n",
              "//      http://www.apache.org/licenses/LICENSE-2.0\n",
              "//\n",
              "// Unless required by applicable law or agreed to in writing, software\n",
              "// distributed under the License is distributed on an \"AS IS\" BASIS,\n",
              "// WITHOUT WARRANTIES OR CONDITIONS OF ANY KIND, either express or implied.\n",
              "// See the License for the specific language governing permissions and\n",
              "// limitations under the License.\n",
              "\n",
              "/**\n",
              " * @fileoverview Helpers for google.colab Python module.\n",
              " */\n",
              "(function(scope) {\n",
              "function span(text, styleAttributes = {}) {\n",
              "  const element = document.createElement('span');\n",
              "  element.textContent = text;\n",
              "  for (const key of Object.keys(styleAttributes)) {\n",
              "    element.style[key] = styleAttributes[key];\n",
              "  }\n",
              "  return element;\n",
              "}\n",
              "\n",
              "// Max number of bytes which will be uploaded at a time.\n",
              "const MAX_PAYLOAD_SIZE = 100 * 1024;\n",
              "\n",
              "function _uploadFiles(inputId, outputId) {\n",
              "  const steps = uploadFilesStep(inputId, outputId);\n",
              "  const outputElement = document.getElementById(outputId);\n",
              "  // Cache steps on the outputElement to make it available for the next call\n",
              "  // to uploadFilesContinue from Python.\n",
              "  outputElement.steps = steps;\n",
              "\n",
              "  return _uploadFilesContinue(outputId);\n",
              "}\n",
              "\n",
              "// This is roughly an async generator (not supported in the browser yet),\n",
              "// where there are multiple asynchronous steps and the Python side is going\n",
              "// to poll for completion of each step.\n",
              "// This uses a Promise to block the python side on completion of each step,\n",
              "// then passes the result of the previous step as the input to the next step.\n",
              "function _uploadFilesContinue(outputId) {\n",
              "  const outputElement = document.getElementById(outputId);\n",
              "  const steps = outputElement.steps;\n",
              "\n",
              "  const next = steps.next(outputElement.lastPromiseValue);\n",
              "  return Promise.resolve(next.value.promise).then((value) => {\n",
              "    // Cache the last promise value to make it available to the next\n",
              "    // step of the generator.\n",
              "    outputElement.lastPromiseValue = value;\n",
              "    return next.value.response;\n",
              "  });\n",
              "}\n",
              "\n",
              "/**\n",
              " * Generator function which is called between each async step of the upload\n",
              " * process.\n",
              " * @param {string} inputId Element ID of the input file picker element.\n",
              " * @param {string} outputId Element ID of the output display.\n",
              " * @return {!Iterable<!Object>} Iterable of next steps.\n",
              " */\n",
              "function* uploadFilesStep(inputId, outputId) {\n",
              "  const inputElement = document.getElementById(inputId);\n",
              "  inputElement.disabled = false;\n",
              "\n",
              "  const outputElement = document.getElementById(outputId);\n",
              "  outputElement.innerHTML = '';\n",
              "\n",
              "  const pickedPromise = new Promise((resolve) => {\n",
              "    inputElement.addEventListener('change', (e) => {\n",
              "      resolve(e.target.files);\n",
              "    });\n",
              "  });\n",
              "\n",
              "  const cancel = document.createElement('button');\n",
              "  inputElement.parentElement.appendChild(cancel);\n",
              "  cancel.textContent = 'Cancel upload';\n",
              "  const cancelPromise = new Promise((resolve) => {\n",
              "    cancel.onclick = () => {\n",
              "      resolve(null);\n",
              "    };\n",
              "  });\n",
              "\n",
              "  // Wait for the user to pick the files.\n",
              "  const files = yield {\n",
              "    promise: Promise.race([pickedPromise, cancelPromise]),\n",
              "    response: {\n",
              "      action: 'starting',\n",
              "    }\n",
              "  };\n",
              "\n",
              "  cancel.remove();\n",
              "\n",
              "  // Disable the input element since further picks are not allowed.\n",
              "  inputElement.disabled = true;\n",
              "\n",
              "  if (!files) {\n",
              "    return {\n",
              "      response: {\n",
              "        action: 'complete',\n",
              "      }\n",
              "    };\n",
              "  }\n",
              "\n",
              "  for (const file of files) {\n",
              "    const li = document.createElement('li');\n",
              "    li.append(span(file.name, {fontWeight: 'bold'}));\n",
              "    li.append(span(\n",
              "        `(${file.type || 'n/a'}) - ${file.size} bytes, ` +\n",
              "        `last modified: ${\n",
              "            file.lastModifiedDate ? file.lastModifiedDate.toLocaleDateString() :\n",
              "                                    'n/a'} - `));\n",
              "    const percent = span('0% done');\n",
              "    li.appendChild(percent);\n",
              "\n",
              "    outputElement.appendChild(li);\n",
              "\n",
              "    const fileDataPromise = new Promise((resolve) => {\n",
              "      const reader = new FileReader();\n",
              "      reader.onload = (e) => {\n",
              "        resolve(e.target.result);\n",
              "      };\n",
              "      reader.readAsArrayBuffer(file);\n",
              "    });\n",
              "    // Wait for the data to be ready.\n",
              "    let fileData = yield {\n",
              "      promise: fileDataPromise,\n",
              "      response: {\n",
              "        action: 'continue',\n",
              "      }\n",
              "    };\n",
              "\n",
              "    // Use a chunked sending to avoid message size limits. See b/62115660.\n",
              "    let position = 0;\n",
              "    do {\n",
              "      const length = Math.min(fileData.byteLength - position, MAX_PAYLOAD_SIZE);\n",
              "      const chunk = new Uint8Array(fileData, position, length);\n",
              "      position += length;\n",
              "\n",
              "      const base64 = btoa(String.fromCharCode.apply(null, chunk));\n",
              "      yield {\n",
              "        response: {\n",
              "          action: 'append',\n",
              "          file: file.name,\n",
              "          data: base64,\n",
              "        },\n",
              "      };\n",
              "\n",
              "      let percentDone = fileData.byteLength === 0 ?\n",
              "          100 :\n",
              "          Math.round((position / fileData.byteLength) * 100);\n",
              "      percent.textContent = `${percentDone}% done`;\n",
              "\n",
              "    } while (position < fileData.byteLength);\n",
              "  }\n",
              "\n",
              "  // All done.\n",
              "  yield {\n",
              "    response: {\n",
              "      action: 'complete',\n",
              "    }\n",
              "  };\n",
              "}\n",
              "\n",
              "scope.google = scope.google || {};\n",
              "scope.google.colab = scope.google.colab || {};\n",
              "scope.google.colab._files = {\n",
              "  _uploadFiles,\n",
              "  _uploadFilesContinue,\n",
              "};\n",
              "})(self);\n",
              "</script> "
            ]
          },
          "metadata": {}
        },
        {
          "output_type": "stream",
          "name": "stdout",
          "text": [
            "Saving Screenshot from 2025-09-05 19-28-13.png to Screenshot from 2025-09-05 19-28-13.png\n",
            "Saving Screenshot from 2025-09-05 19-27-59.png to Screenshot from 2025-09-05 19-27-59.png\n"
          ]
        }
      ]
    }
  ],
  "metadata": {
    "kernelspec": {
      "display_name": "Python 3",
      "language": "python",
      "name": "python3"
    },
    "language_info": {
      "codemirror_mode": {
        "name": "ipython",
        "version": 3
      },
      "file_extension": ".py",
      "mimetype": "text/x-python",
      "name": "python",
      "nbconvert_exporter": "python",
      "pygments_lexer": "ipython3",
      "version": "3.13.5"
    },
    "colab": {
      "provenance": [],
      "include_colab_link": true
    }
  },
  "nbformat": 4,
  "nbformat_minor": 5
}